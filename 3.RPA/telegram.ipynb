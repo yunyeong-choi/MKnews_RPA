{
 "cells": [
  {
   "attachments": {},
   "cell_type": "markdown",
   "metadata": {},
   "source": [
    "### 2022말 텔레그램 업뎃으로 기존 updates 코드들이 안먹힘\n",
    "- https://m.blog.naver.com/huridam/222985356451?isInf=true\n",
    "- 버전 다운그레이드해서 진행"
   ]
  },
  {
   "cell_type": "markdown",
   "metadata": {},
   "source": [
    "## 메인모듈 실행해서 데이터프레임 얻기"
   ]
  },
  {
   "cell_type": "code",
   "execution_count": null,
   "metadata": {},
   "outputs": [],
   "source": [
    "\n",
    "\n",
    "#매경 최근 2시간이내 기준, 인기뉴스 크롤링\n",
    "from mknews_crw import best_To_Tuple\n",
    "#best_To_Tuple() #return result : 리스트안 튜플값\n",
    "btt=best_To_Tuple()\n",
    "\n",
    "#크롤링 결과 db저장 후 df생성\n",
    "from dbTodf import newsdb2df \n",
    "newsdb2df(btt)#return news_top10 :데이터프레임\n",
    "\n",
    "#df을 html 로 로컬에 저장 \n",
    "from save_html import df2html\n",
    "news=newsdb2df(btt)\n",
    "df2html(news) #html 파일생성\n",
    "\n",
    "#HTML->이메일 전송\n",
    "from email_sender import send_mail \n",
    "RPA_MAIL=send_mail('tinggunj@naver.com',['tinggunj@gmail.com','tinggunj@naver.com'],\n",
    "    subject='[매일경제 오늘의 인기뉴스!]', content='최근 2시간이내 인기뉴스 목록입니다.',\n",
    "    attachments=[r'/home/ubuntu/workspace/mknews_pkg/yycrawler_package/today_mk_Best.html'])\n",
    "\n",
    "#카테고리별 뉴스 url->telegram 전송\n",
    "\n",
    "\n"
   ]
  },
  {
   "cell_type": "code",
   "execution_count": null,
   "metadata": {},
   "outputs": [],
   "source": [
    "!pip install telegram"
   ]
  },
  {
   "cell_type": "code",
   "execution_count": null,
   "metadata": {},
   "outputs": [],
   "source": [
    "!pip uninstall python-telegram-bot telegram -y"
   ]
  },
  {
   "cell_type": "code",
   "execution_count": 1,
   "metadata": {},
   "outputs": [
    {
     "name": "stdout",
     "output_type": "stream",
     "text": [
      "Requirement already satisfied: python-telegram-bot==13.14 in c:\\anaconda3\\lib\\site-packages (13.14)\n",
      "Requirement already satisfied: pytz>=2018.6 in c:\\anaconda3\\lib\\site-packages (from python-telegram-bot==13.14) (2018.9)\n",
      "Requirement already satisfied: cachetools==4.2.2 in c:\\anaconda3\\lib\\site-packages (from python-telegram-bot==13.14) (4.2.2)\n",
      "Requirement already satisfied: tornado==6.1 in c:\\anaconda3\\lib\\site-packages (from python-telegram-bot==13.14) (6.1)\n",
      "Requirement already satisfied: APScheduler==3.6.3 in c:\\anaconda3\\lib\\site-packages (from python-telegram-bot==13.14) (3.6.3)\n",
      "Requirement already satisfied: certifi in c:\\anaconda3\\lib\\site-packages (from python-telegram-bot==13.14) (2022.9.24)\n",
      "Requirement already satisfied: setuptools>=0.7 in c:\\anaconda3\\lib\\site-packages (from APScheduler==3.6.3->python-telegram-bot==13.14) (65.5.0)\n",
      "Requirement already satisfied: tzlocal>=1.2 in c:\\anaconda3\\lib\\site-packages (from APScheduler==3.6.3->python-telegram-bot==13.14) (4.2)\n",
      "Requirement already satisfied: six>=1.4.0 in c:\\anaconda3\\lib\\site-packages (from APScheduler==3.6.3->python-telegram-bot==13.14) (1.12.0)\n",
      "Requirement already satisfied: backports.zoneinfo in c:\\anaconda3\\lib\\site-packages (from tzlocal>=1.2->APScheduler==3.6.3->python-telegram-bot==13.14) (0.2.1)\n",
      "Requirement already satisfied: tzdata in c:\\anaconda3\\lib\\site-packages (from tzlocal>=1.2->APScheduler==3.6.3->python-telegram-bot==13.14) (2022.7)\n",
      "Requirement already satisfied: pytz-deprecation-shim in c:\\anaconda3\\lib\\site-packages (from tzlocal>=1.2->APScheduler==3.6.3->python-telegram-bot==13.14) (0.1.0.post0)\n"
     ]
    },
    {
     "name": "stderr",
     "output_type": "stream",
     "text": [
      "WARNING: Ignoring invalid distribution -umpy (c:\\anaconda3\\lib\\site-packages)\n",
      "WARNING: Ignoring invalid distribution -tatsmodels (c:\\anaconda3\\lib\\site-packages)\n",
      "WARNING: Ignoring invalid distribution -illow (c:\\anaconda3\\lib\\site-packages)\n",
      "WARNING: Ignoring invalid distribution -atplotlib (c:\\anaconda3\\lib\\site-packages)\n",
      "WARNING: Ignoring invalid distribution -umpy (c:\\anaconda3\\lib\\site-packages)\n",
      "WARNING: Ignoring invalid distribution -tatsmodels (c:\\anaconda3\\lib\\site-packages)\n",
      "WARNING: Ignoring invalid distribution -illow (c:\\anaconda3\\lib\\site-packages)\n",
      "WARNING: Ignoring invalid distribution -atplotlib (c:\\anaconda3\\lib\\site-packages)\n",
      "WARNING: Ignoring invalid distribution -umpy (c:\\anaconda3\\lib\\site-packages)\n",
      "WARNING: Ignoring invalid distribution -tatsmodels (c:\\anaconda3\\lib\\site-packages)\n",
      "WARNING: Ignoring invalid distribution -illow (c:\\anaconda3\\lib\\site-packages)\n",
      "WARNING: Ignoring invalid distribution -atplotlib (c:\\anaconda3\\lib\\site-packages)\n",
      "WARNING: Ignoring invalid distribution -umpy (c:\\anaconda3\\lib\\site-packages)\n",
      "WARNING: Ignoring invalid distribution -tatsmodels (c:\\anaconda3\\lib\\site-packages)\n",
      "WARNING: Ignoring invalid distribution -illow (c:\\anaconda3\\lib\\site-packages)\n",
      "WARNING: Ignoring invalid distribution -atplotlib (c:\\anaconda3\\lib\\site-packages)\n",
      "WARNING: Ignoring invalid distribution -umpy (c:\\anaconda3\\lib\\site-packages)\n",
      "WARNING: Ignoring invalid distribution -tatsmodels (c:\\anaconda3\\lib\\site-packages)\n",
      "WARNING: Ignoring invalid distribution -illow (c:\\anaconda3\\lib\\site-packages)\n",
      "WARNING: Ignoring invalid distribution -atplotlib (c:\\anaconda3\\lib\\site-packages)\n",
      "WARNING: Ignoring invalid distribution -umpy (c:\\anaconda3\\lib\\site-packages)\n",
      "WARNING: Ignoring invalid distribution -tatsmodels (c:\\anaconda3\\lib\\site-packages)\n",
      "WARNING: Ignoring invalid distribution -illow (c:\\anaconda3\\lib\\site-packages)\n",
      "WARNING: Ignoring invalid distribution -atplotlib (c:\\anaconda3\\lib\\site-packages)\n",
      "\n",
      "[notice] A new release of pip available: 22.3.1 -> 23.0\n",
      "[notice] To update, run: python.exe -m pip install --upgrade pip\n"
     ]
    }
   ],
   "source": [
    "!pip install --upgrade python-telegram-bot==13.14"
   ]
  },
  {
   "cell_type": "markdown",
   "metadata": {},
   "source": [
    "- html 파일 또는 카테고리별 기사 링크 전송"
   ]
  },
  {
   "cell_type": "code",
   "execution_count": 2,
   "metadata": {},
   "outputs": [
    {
     "data": {
      "text/plain": [
       "<telegram.message.Message at 0x1e4b58c61a8>"
      ]
     },
     "execution_count": 2,
     "metadata": {},
     "output_type": "execute_result"
    }
   ],
   "source": [
    "import telegram\n",
    "\n",
    "telegram_config = {}\n",
    "\n",
    "with open(r'C:\\Users\\Choi\\workspace\\sesac\\project1_crawring\\yycrawler_package\\MK_news_pkg\\config_files\\telegram_config', 'r') as f:\n",
    "    configs = f.readlines()\n",
    "    for config in configs:\n",
    "        key, value = config.rstrip().split('=')\n",
    "        telegram_config[key] = value\n",
    "\n",
    "token = telegram_config['token']\n",
    "\n",
    "bot = telegram.Bot(token)\n",
    "\n",
    "html_newsfile = open(r'C:\\Users\\Choi\\workspace\\sesac\\project1_crawring\\yycrawler_package\\mknews_best10.html', 'rb')\n",
    "#bot.send_html(telegram_config['chatId'],html_newsfile)\n",
    "bot.sendDocument(telegram_config['chatId'], html_newsfile)"
   ]
  },
  {
   "cell_type": "code",
   "execution_count": null,
   "metadata": {},
   "outputs": [],
   "source": [
    "updates=bot.get_updates() #ctrl누르고 코드구조확인가능!\n",
    "chat_id=updates[-1].message.chat.id#메세지가 담겨있는 채팅방 id값\n",
    "\n",
    "chat_id #내 봇있는 채팅방"
   ]
  },
  {
   "cell_type": "code",
   "execution_count": null,
   "metadata": {},
   "outputs": [],
   "source": [
    "df[(df['category']=='경제')][['url']] #특정카테고리 뉴스 url 추출"
   ]
  },
  {
   "cell_type": "code",
   "execution_count": 8,
   "metadata": {},
   "outputs": [
    {
     "ename": "KeyboardInterrupt",
     "evalue": "",
     "output_type": "error",
     "traceback": [
      "\u001b[1;31m---------------------------------------------------------------------------\u001b[0m",
      "\u001b[1;31mKeyboardInterrupt\u001b[0m                         Traceback (most recent call last)",
      "\u001b[1;32m<ipython-input-8-e14b419cc6cb>\u001b[0m in \u001b[0;36m<module>\u001b[1;34m\u001b[0m\n\u001b[0;32m     34\u001b[0m \u001b[1;33m\u001b[0m\u001b[0m\n\u001b[0;32m     35\u001b[0m     \u001b[1;31m# 텔레그램 서버 부하 줄이기 위해 3초마다 신규메세지 확인\u001b[0m\u001b[1;33m\u001b[0m\u001b[1;33m\u001b[0m\u001b[1;33m\u001b[0m\u001b[0m\n\u001b[1;32m---> 36\u001b[1;33m     \u001b[0mtime\u001b[0m\u001b[1;33m.\u001b[0m\u001b[0msleep\u001b[0m\u001b[1;33m(\u001b[0m\u001b[1;36m3\u001b[0m\u001b[1;33m)\u001b[0m\u001b[1;33m\u001b[0m\u001b[1;33m\u001b[0m\u001b[0m\n\u001b[0m",
      "\u001b[1;31mKeyboardInterrupt\u001b[0m: "
     ]
    }
   ],
   "source": [
    "# 서버에서 텔레그램 메시지 확인, 응답 보내기\n",
    "import telegram\n",
    "\n",
    "telegram_config = {}\n",
    "\n",
    "with open(r'C:\\Users\\Choi\\workspace\\sesac\\project1_crawring\\yycrawler_package\\MK_news_pkg\\config_files\\telegram_config', 'r') as f:\n",
    "    configs = f.readlines()\n",
    "    for config in configs:\n",
    "        key, value = config.rstrip().split('=')\n",
    "        telegram_config[key] = value\n",
    "\n",
    "token = telegram_config['token']\n",
    "\n",
    "bot = telegram.Bot(token)\n",
    "\n",
    "updates=bot.get_updates() #ctrl누르고 코드구조확인가능!\n",
    "last_id = updates[-1].update_id\n",
    "last_id\n",
    "\n",
    "import time\n",
    "chat_id=telegram_config['chatId']\n",
    "while True:\n",
    "    \n",
    "    try:\n",
    "        # 신규 메시지가 없을 경우 에러가 발생 \n",
    "        # list index out of range\n",
    "        # 따라서, try - except 문으로 묶어줌\n",
    "        new_message = bot.get_updates(offset=last_id)[-1]\n",
    "\n",
    "        # 만약 신규 메시지가 오늘날씨면,\n",
    "        if new_message.message.text == '인기뉴스':\n",
    "            # 관련 메시지 발송+크롤링결과\n",
    "            bot.send_message(chat_id, '매일경제 오늘의 인기뉴스 top10입니다.\\n'+'\\n'+'원하시는 카테고리를 입력하세요.'+'\\n'+\n",
    "                             '[전체],[뉴스종합],[경제],[기업],[사회],[국제],[부동산],[증권],[정치],[IT과학],[문화],[스포츠]')\n",
    "            \n",
    "    \n",
    "        # 만약 신규 메시지가 '전체'면,\n",
    "        elif new_message.message.text == '전체':\n",
    "            # 관련 메시지 발송\n",
    "            bot.send_message(chat_id, '[전체]매일경제 오늘의 인기뉴스 top10입니다.\\n'+'\\n')\n",
    "            html_newsfile = open(r'C:\\Users\\Choi\\workspace\\sesac\\project1_crawring\\yycrawler_package\\mknews_best10.html', 'rb')\n",
    "            #bot.send_html(telegram_config['chatId'],html_newsfile)\n",
    "            bot.sendDocument(telegram_config['chatId'], html_newsfile)\n",
    "        # offset 값 최신화 (update_id) + 1 해줘서 그 다음부터 메시지부터 확인하도록\n",
    "        last_id = new_message.update_id + 1\n",
    "    except:\n",
    "        pass\n",
    "\n",
    "    # 텔레그램 서버 부하 줄이기 위해 3초마다 신규메세지 확인\n",
    "    time.sleep(3)"
   ]
  },
  {
   "cell_type": "markdown",
   "metadata": {},
   "source": [
    "- 텔레그램 업뎃 후 비동기식으로 변경... 잘모르겠음ㅠㅠ"
   ]
  },
  {
   "cell_type": "code",
   "execution_count": 6,
   "metadata": {},
   "outputs": [],
   "source": [
    "#https://m.blog.naver.com/huridam/222985356451?isInf=true\n",
    "\n",
    "import asyncio\n",
    "\n",
    "async def main():\n",
    "    \n",
    "    import telegram\n",
    "\n",
    "    telegram_config = {}\n",
    "\n",
    "    with open(r'C:\\Users\\Choi\\workspace\\sesac\\project1_crawring\\yycrawler_package\\MK_news_pkg\\config_files\\telegram_config', 'r') as f:\n",
    "        configs = f.readlines()\n",
    "        for config in configs:\n",
    "            key, value = config.rstrip().split('=')\n",
    "            telegram_config[key] = value\n",
    "\n",
    "    token = telegram_config['token']\n",
    "    bot=telegram.Bot(token=token)\n",
    "    html_newsfile = open(r'C:\\Users\\Choi\\workspace\\sesac\\project1_crawring\\yycrawler_package\\mknews_best10.html', 'rb')\n",
    "    await bot.send_document(telegram_config['chatId'], html_newsfile)\n"
   ]
  },
  {
   "cell_type": "code",
   "execution_count": null,
   "metadata": {},
   "outputs": [],
   "source": [
    "asyncio.run(main()) #봇 실행하는 코드"
   ]
  },
  {
   "cell_type": "code",
   "execution_count": null,
   "metadata": {},
   "outputs": [],
   "source": [
    "import asyncio\n",
    "\n",
    "async def main(): #실행시킬 함수명 임의지정\n",
    "    token = \"5426387999:AAFHoOWSwRvI5I_ulKwSmrSLFvEvHmar2-4\"\n",
    "    bot = telegram.Bot(token = token)\n",
    "    await bot.send_message('5792240801','보낼메세지')\n",
    "\n",
    "asyncio.run(main()) #봇 실행하는 코드\n"
   ]
  },
  {
   "cell_type": "code",
   "execution_count": 1,
   "metadata": {},
   "outputs": [
    {
     "ename": "RuntimeError",
     "evalue": "asyncio.run() cannot be called from a running event loop",
     "output_type": "error",
     "traceback": [
      "\u001b[1;31m---------------------------------------------------------------------------\u001b[0m",
      "\u001b[1;31mRuntimeError\u001b[0m                              Traceback (most recent call last)",
      "Cell \u001b[1;32mIn [1], line 9\u001b[0m\n\u001b[0;32m      7\u001b[0m \u001b[39m#### 리눅스에서는 아래 코드 삭제 또는 주석처리해야함 ####\u001b[39;00m\n\u001b[0;32m      8\u001b[0m asyncio\u001b[39m.\u001b[39mset_event_loop_policy(asyncio\u001b[39m.\u001b[39mWindowsSelectorEventLoopPolicy())\n\u001b[1;32m----> 9\u001b[0m asyncio\u001b[39m.\u001b[39;49mrun(bot\u001b[39m.\u001b[39;49msendMessage(chat_id \u001b[39m=\u001b[39;49m \u001b[39m\"\u001b[39;49m\u001b[39m5792240801\u001b[39;49m\u001b[39m\"\u001b[39;49m, text\u001b[39m=\u001b[39;49mtext))\n",
      "File \u001b[1;32mc:\\Anaconda3\\envs\\optuna\\lib\\asyncio\\runners.py:33\u001b[0m, in \u001b[0;36mrun\u001b[1;34m(main, debug)\u001b[0m\n\u001b[0;32m      9\u001b[0m \u001b[39m\"\"\"Execute the coroutine and return the result.\u001b[39;00m\n\u001b[0;32m     10\u001b[0m \n\u001b[0;32m     11\u001b[0m \u001b[39mThis function runs the passed coroutine, taking care of\u001b[39;00m\n\u001b[1;32m   (...)\u001b[0m\n\u001b[0;32m     30\u001b[0m \u001b[39m    asyncio.run(main())\u001b[39;00m\n\u001b[0;32m     31\u001b[0m \u001b[39m\"\"\"\u001b[39;00m\n\u001b[0;32m     32\u001b[0m \u001b[39mif\u001b[39;00m events\u001b[39m.\u001b[39m_get_running_loop() \u001b[39mis\u001b[39;00m \u001b[39mnot\u001b[39;00m \u001b[39mNone\u001b[39;00m:\n\u001b[1;32m---> 33\u001b[0m     \u001b[39mraise\u001b[39;00m \u001b[39mRuntimeError\u001b[39;00m(\n\u001b[0;32m     34\u001b[0m         \u001b[39m\"\u001b[39m\u001b[39masyncio.run() cannot be called from a running event loop\u001b[39m\u001b[39m\"\u001b[39m)\n\u001b[0;32m     36\u001b[0m \u001b[39mif\u001b[39;00m \u001b[39mnot\u001b[39;00m coroutines\u001b[39m.\u001b[39miscoroutine(main):\n\u001b[0;32m     37\u001b[0m     \u001b[39mraise\u001b[39;00m \u001b[39mValueError\u001b[39;00m(\u001b[39m\"\u001b[39m\u001b[39ma coroutine was expected, got \u001b[39m\u001b[39m{!r}\u001b[39;00m\u001b[39m\"\u001b[39m\u001b[39m.\u001b[39mformat(main))\n",
      "\u001b[1;31mRuntimeError\u001b[0m: asyncio.run() cannot be called from a running event loop"
     ]
    }
   ],
   "source": [
    "import telegram\n",
    "import asyncio\n",
    "\n",
    "chat_token = \"5426387999:AAHDnfrDcOmRc7hAnHPN9a3SfVV91Eg-1p4\"\n",
    "bot = telegram.Bot(token = chat_token)\n",
    "text = '안녕하세요'\n",
    "#### 리눅스에서는 아래 코드 삭제 또는 주석처리해야함 ####\n",
    "asyncio.set_event_loop_policy(asyncio.WindowsSelectorEventLoopPolicy())\n",
    "asyncio.run(bot.sendMessage(chat_id = \"5792240801\", text=text))"
   ]
  },
  {
   "cell_type": "code",
   "execution_count": 25,
   "metadata": {},
   "outputs": [
    {
     "ename": "RuntimeError",
     "evalue": "asyncio.run() cannot be called from a running event loop",
     "output_type": "error",
     "traceback": [
      "\u001b[1;31m---------------------------------------------------------------------------\u001b[0m",
      "\u001b[1;31mRuntimeError\u001b[0m                              Traceback (most recent call last)",
      "\u001b[1;32m<ipython-input-25-849ad2bbbc40>\u001b[0m in \u001b[0;36m<module>\u001b[1;34m\u001b[0m\n\u001b[0;32m     10\u001b[0m     \u001b[1;32mawait\u001b[0m \u001b[0mtask1\u001b[0m\u001b[1;33m\u001b[0m\u001b[1;33m\u001b[0m\u001b[0m\n\u001b[0;32m     11\u001b[0m \u001b[1;33m\u001b[0m\u001b[0m\n\u001b[1;32m---> 12\u001b[1;33m \u001b[0masyncio\u001b[0m\u001b[1;33m.\u001b[0m\u001b[0mrun\u001b[0m\u001b[1;33m(\u001b[0m\u001b[0mmain\u001b[0m\u001b[1;33m(\u001b[0m\u001b[1;33m)\u001b[0m\u001b[1;33m)\u001b[0m \u001b[1;31m#봇 실행하는 코드\u001b[0m\u001b[1;33m\u001b[0m\u001b[1;33m\u001b[0m\u001b[0m\n\u001b[0m",
      "\u001b[1;32mc:\\Anaconda3\\lib\\asyncio\\runners.py\u001b[0m in \u001b[0;36mrun\u001b[1;34m(main, debug)\u001b[0m\n\u001b[0;32m     32\u001b[0m     \u001b[1;32mif\u001b[0m \u001b[0mevents\u001b[0m\u001b[1;33m.\u001b[0m\u001b[0m_get_running_loop\u001b[0m\u001b[1;33m(\u001b[0m\u001b[1;33m)\u001b[0m \u001b[1;32mis\u001b[0m \u001b[1;32mnot\u001b[0m \u001b[1;32mNone\u001b[0m\u001b[1;33m:\u001b[0m\u001b[1;33m\u001b[0m\u001b[1;33m\u001b[0m\u001b[0m\n\u001b[0;32m     33\u001b[0m         raise RuntimeError(\n\u001b[1;32m---> 34\u001b[1;33m             \"asyncio.run() cannot be called from a running event loop\")\n\u001b[0m\u001b[0;32m     35\u001b[0m \u001b[1;33m\u001b[0m\u001b[0m\n\u001b[0;32m     36\u001b[0m     \u001b[1;32mif\u001b[0m \u001b[1;32mnot\u001b[0m \u001b[0mcoroutines\u001b[0m\u001b[1;33m.\u001b[0m\u001b[0miscoroutine\u001b[0m\u001b[1;33m(\u001b[0m\u001b[0mmain\u001b[0m\u001b[1;33m)\u001b[0m\u001b[1;33m:\u001b[0m\u001b[1;33m\u001b[0m\u001b[1;33m\u001b[0m\u001b[0m\n",
      "\u001b[1;31mRuntimeError\u001b[0m: asyncio.run() cannot be called from a running event loop"
     ]
    }
   ],
   "source": [
    "\n",
    "import asyncio\n",
    "\n",
    "async def async_task_1():\n",
    "    #bot = telegram.Bot(token = \"5426387999:AAHDnfrDcOmRc7hAnHPN9a3SfVV91Eg-1p4\" )\n",
    "    await telegram.Bot(token = \"5426387999:AAHDnfrDcOmRc7hAnHPN9a3SfVV91Eg-1p4\" ).send_message('5792240801','보낼메세지')\n",
    "    \n",
    "async def main(): #실행시킬 함수명 임의지정 \n",
    "    task1=asyncio.create_task(async_task_1)\n",
    "    await task1\n",
    "\n",
    "asyncio.run(main()) #봇 실행하는 코드"
   ]
  },
  {
   "cell_type": "code",
   "execution_count": null,
   "metadata": {},
   "outputs": [],
   "source": []
  }
 ],
 "metadata": {
  "kernelspec": {
   "display_name": "base",
   "language": "python",
   "name": "python3"
  },
  "language_info": {
   "codemirror_mode": {
    "name": "ipython",
    "version": 3
   },
   "file_extension": ".py",
   "mimetype": "text/x-python",
   "name": "python",
   "nbconvert_exporter": "python",
   "pygments_lexer": "ipython3",
   "version": "3.7.3"
  },
  "orig_nbformat": 4,
  "vscode": {
   "interpreter": {
    "hash": "e4cce46d6be9934fbd27f9ca0432556941ea5bdf741d4f4d64c6cd7f8dfa8fba"
   }
  }
 },
 "nbformat": 4,
 "nbformat_minor": 2
}
